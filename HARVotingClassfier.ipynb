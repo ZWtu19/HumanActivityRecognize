{
 "cells": [
  {
   "cell_type": "markdown",
   "metadata": {},
   "source": [
    "#### [数据集说明 dataset description]"
   ]
  },
  {
   "cell_type": "markdown",
   "metadata": {},
   "source": [
    "##### 数据来源 Data Sources"
   ]
  },
  {
   "cell_type": "markdown",
   "metadata": {},
   "source": [
    "[数据来源](http://archive.ics.uci.edu/ml/datasets/Human+Activity+Recognition+Using+Smartphones)"
   ]
  },
  {
   "cell_type": "markdown",
   "metadata": {},
   "source": [
    "##### 数据结构 data structure"
   ]
  },
  {
   "cell_type": "markdown",
   "metadata": {},
   "source": [
    "见struct.jpg"
   ]
  },
  {
   "cell_type": "markdown",
   "metadata": {},
   "source": [
    "#### 一、环境配置 Environment configuration"
   ]
  },
  {
   "cell_type": "code",
   "execution_count": 1,
   "metadata": {},
   "outputs": [],
   "source": [
    "import numpy as np\n",
    "import pandas as pd\n",
    "import matplotlib.pyplot as plt\n",
    "from sklearn.ensemble import RandomForestClassifier\n",
    "from sklearn.model_selection import GridSearchCV\n",
    "from sklearn.model_selection import train_test_split\n",
    "from sklearn.preprocessing import MinMaxScaler\n",
    "from sklearn.decomposition import PCA\n",
    "# 修改imputer为SimpleImputer\n",
    "# from sklearn.preprocessi|ng import Imputer\n",
    "from sklearn.impute import SimpleImputer\n",
    "from sklearn.preprocessing import label_binarize\n",
    "from sklearn import metrics\n",
    "\n",
    "import seaborn as sns\n",
    "import cv2\n",
    "# from sklearn.metrics import roc_curve, auc, roc_auc_score"
   ]
  },
  {
   "cell_type": "markdown",
   "metadata": {},
   "source": [
    "#### 二、数据信息配置 Data information configuration"
   ]
  },
  {
   "cell_type": "code",
   "execution_count": 2,
   "metadata": {},
   "outputs": [],
   "source": [
    "# 定义根路径\n",
    "# root =  '/Users/authorcai/Documents/Authorcai/CSH/HumanActivityRecognize-master/Data/UCI_HAR_Dataset/'\n",
    "root = 'C:/Users/Authorcai/CSH/HumanActivityRecognization/UCI_HAR_Dataset/UCI_HAR_Dataset/'"
   ]
  },
  {
   "cell_type": "code",
   "execution_count": 3,
   "metadata": {},
   "outputs": [],
   "source": [
    "# 读取数据\n",
    "features = pd.read_csv(root + 'features.txt', sep='\\s+', index_col=0, header=None)\n",
    "train_data = pd.read_csv(root + 'train/X_train.txt', sep='\\s+', names=features.values.ravel().tolist(),header=None)\n",
    "test_data = pd.read_csv(root + 'test/X_test.txt', sep='\\s+', names=features.values.ravel().tolist(),header=None)\n",
    "train_label = pd.read_csv(root + 'train/y_train.txt', sep='\\s+', header=None)\n",
    "test_label = pd.read_csv(root + 'test/y_test.txt', sep='\\s+', header=None)\n",
    "label_name = pd.read_csv(root + 'activity_labels.txt', sep='\\s+', header=None)\n",
    "\n",
    "# drop掉label_name自带的索引列\n",
    "label_name = label_name.drop(columns=0,axis=1)"
   ]
  },
  {
   "cell_type": "code",
   "execution_count": 4,
   "metadata": {},
   "outputs": [],
   "source": [
    "# 处理label数据\n",
    "def get_label_name(num):\n",
    "    return label_name.iloc[num-1,0]#在原来的标签号基础上减一\n"
   ]
  },
  {
   "cell_type": "code",
   "execution_count": 5,
   "metadata": {},
   "outputs": [],
   "source": [
    "train_data['label']=train_label\n",
    "test_data['label']=test_label"
   ]
  },
  {
   "cell_type": "code",
   "execution_count": 6,
   "metadata": {},
   "outputs": [
    {
     "data": {
      "text/plain": [
       "LAYING                1407\n",
       "STANDING              1374\n",
       "SITTING               1286\n",
       "WALKING               1226\n",
       "WALKING_UPSTAIRS      1073\n",
       "WALKING_DOWNSTAIRS     986\n",
       "Name: label_name, dtype: int64"
      ]
     },
     "execution_count": 6,
     "metadata": {},
     "output_type": "execute_result"
    }
   ],
   "source": [
    "# 匹配索引号和对应姿势名称\n",
    "train_data['label_name']=train_data['label'].map(get_label_name)\n",
    "test_data['label_name']=test_data['label'].map(get_label_name)\n",
    "\n",
    "# 查看train_data是否匹配成功\n",
    "pd.DataFrame(train_data['label_name'])['label_name'].value_counts()\n",
    "# 查看test_data是否匹配成功\n",
    "#pd.DataFrame(test_data['label_name'])['label_name'].value_counts()"
   ]
  },
  {
   "cell_type": "markdown",
   "metadata": {},
   "source": [
    "##### （一）处理空值 Handling null values"
   ]
  },
  {
   "cell_type": "code",
   "execution_count": 7,
   "metadata": {},
   "outputs": [
    {
     "data": {
      "text/html": [
       "<div>\n",
       "<style scoped>\n",
       "    .dataframe tbody tr th:only-of-type {\n",
       "        vertical-align: middle;\n",
       "    }\n",
       "\n",
       "    .dataframe tbody tr th {\n",
       "        vertical-align: top;\n",
       "    }\n",
       "\n",
       "    .dataframe thead th {\n",
       "        text-align: right;\n",
       "    }\n",
       "</style>\n",
       "<table border=\"1\" class=\"dataframe\">\n",
       "  <thead>\n",
       "    <tr style=\"text-align: right;\">\n",
       "      <th></th>\n",
       "      <th>tBodyAcc-mean()-X</th>\n",
       "      <th>tBodyAcc-mean()-Y</th>\n",
       "      <th>tBodyAcc-mean()-Z</th>\n",
       "      <th>tBodyAcc-std()-X</th>\n",
       "      <th>tBodyAcc-std()-Y</th>\n",
       "      <th>tBodyAcc-std()-Z</th>\n",
       "      <th>tBodyAcc-mad()-X</th>\n",
       "      <th>tBodyAcc-mad()-Y</th>\n",
       "      <th>tBodyAcc-mad()-Z</th>\n",
       "      <th>tBodyAcc-max()-X</th>\n",
       "      <th>...</th>\n",
       "      <th>fBodyBodyGyroJerkMag-kurtosis()</th>\n",
       "      <th>angle(tBodyAccMean,gravity)</th>\n",
       "      <th>angle(tBodyAccJerkMean),gravityMean)</th>\n",
       "      <th>angle(tBodyGyroMean,gravityMean)</th>\n",
       "      <th>angle(tBodyGyroJerkMean,gravityMean)</th>\n",
       "      <th>angle(X,gravityMean)</th>\n",
       "      <th>angle(Y,gravityMean)</th>\n",
       "      <th>angle(Z,gravityMean)</th>\n",
       "      <th>label</th>\n",
       "      <th>label_name</th>\n",
       "    </tr>\n",
       "  </thead>\n",
       "  <tbody>\n",
       "    <tr>\n",
       "      <th>0</th>\n",
       "      <td>0.257178</td>\n",
       "      <td>-0.023285</td>\n",
       "      <td>-0.014654</td>\n",
       "      <td>-0.938404</td>\n",
       "      <td>-0.920091</td>\n",
       "      <td>-0.667683</td>\n",
       "      <td>-0.952501</td>\n",
       "      <td>-0.925249</td>\n",
       "      <td>-0.674302</td>\n",
       "      <td>-0.894088</td>\n",
       "      <td>...</td>\n",
       "      <td>-0.705974</td>\n",
       "      <td>0.006462</td>\n",
       "      <td>0.162920</td>\n",
       "      <td>-0.825886</td>\n",
       "      <td>0.271151</td>\n",
       "      <td>-0.720009</td>\n",
       "      <td>0.276801</td>\n",
       "      <td>-0.057978</td>\n",
       "      <td>5</td>\n",
       "      <td>STANDING</td>\n",
       "    </tr>\n",
       "    <tr>\n",
       "      <th>1</th>\n",
       "      <td>0.286027</td>\n",
       "      <td>-0.013163</td>\n",
       "      <td>-0.119083</td>\n",
       "      <td>-0.975415</td>\n",
       "      <td>-0.967458</td>\n",
       "      <td>-0.944958</td>\n",
       "      <td>-0.986799</td>\n",
       "      <td>-0.968401</td>\n",
       "      <td>-0.945823</td>\n",
       "      <td>-0.894088</td>\n",
       "      <td>...</td>\n",
       "      <td>-0.594944</td>\n",
       "      <td>-0.083495</td>\n",
       "      <td>0.017500</td>\n",
       "      <td>-0.434375</td>\n",
       "      <td>0.920593</td>\n",
       "      <td>-0.698091</td>\n",
       "      <td>0.281343</td>\n",
       "      <td>-0.083898</td>\n",
       "      <td>5</td>\n",
       "      <td>STANDING</td>\n",
       "    </tr>\n",
       "    <tr>\n",
       "      <th>2</th>\n",
       "      <td>0.275485</td>\n",
       "      <td>-0.026050</td>\n",
       "      <td>-0.118152</td>\n",
       "      <td>-0.993819</td>\n",
       "      <td>-0.969926</td>\n",
       "      <td>-0.962748</td>\n",
       "      <td>-0.994403</td>\n",
       "      <td>-0.970735</td>\n",
       "      <td>-0.963483</td>\n",
       "      <td>-0.939260</td>\n",
       "      <td>...</td>\n",
       "      <td>-0.640736</td>\n",
       "      <td>-0.034956</td>\n",
       "      <td>0.202302</td>\n",
       "      <td>0.064103</td>\n",
       "      <td>0.145068</td>\n",
       "      <td>-0.702771</td>\n",
       "      <td>0.280083</td>\n",
       "      <td>-0.079346</td>\n",
       "      <td>5</td>\n",
       "      <td>STANDING</td>\n",
       "    </tr>\n",
       "    <tr>\n",
       "      <th>3</th>\n",
       "      <td>0.270298</td>\n",
       "      <td>-0.032614</td>\n",
       "      <td>-0.117520</td>\n",
       "      <td>-0.994743</td>\n",
       "      <td>-0.973268</td>\n",
       "      <td>-0.967091</td>\n",
       "      <td>-0.995274</td>\n",
       "      <td>-0.974471</td>\n",
       "      <td>-0.968897</td>\n",
       "      <td>-0.938610</td>\n",
       "      <td>...</td>\n",
       "      <td>-0.736124</td>\n",
       "      <td>-0.017067</td>\n",
       "      <td>0.154438</td>\n",
       "      <td>0.340134</td>\n",
       "      <td>0.296407</td>\n",
       "      <td>-0.698954</td>\n",
       "      <td>0.284114</td>\n",
       "      <td>-0.077108</td>\n",
       "      <td>5</td>\n",
       "      <td>STANDING</td>\n",
       "    </tr>\n",
       "    <tr>\n",
       "      <th>4</th>\n",
       "      <td>0.274833</td>\n",
       "      <td>-0.027848</td>\n",
       "      <td>-0.129527</td>\n",
       "      <td>-0.993852</td>\n",
       "      <td>-0.967445</td>\n",
       "      <td>-0.978295</td>\n",
       "      <td>-0.994111</td>\n",
       "      <td>-0.965953</td>\n",
       "      <td>-0.977346</td>\n",
       "      <td>-0.938610</td>\n",
       "      <td>...</td>\n",
       "      <td>-0.846595</td>\n",
       "      <td>-0.002223</td>\n",
       "      <td>-0.040046</td>\n",
       "      <td>0.736715</td>\n",
       "      <td>-0.118545</td>\n",
       "      <td>-0.692245</td>\n",
       "      <td>0.290722</td>\n",
       "      <td>-0.073857</td>\n",
       "      <td>5</td>\n",
       "      <td>STANDING</td>\n",
       "    </tr>\n",
       "  </tbody>\n",
       "</table>\n",
       "<p>5 rows × 563 columns</p>\n",
       "</div>"
      ],
      "text/plain": [
       "   tBodyAcc-mean()-X  tBodyAcc-mean()-Y  tBodyAcc-mean()-Z  tBodyAcc-std()-X  \\\n",
       "0           0.257178          -0.023285          -0.014654         -0.938404   \n",
       "1           0.286027          -0.013163          -0.119083         -0.975415   \n",
       "2           0.275485          -0.026050          -0.118152         -0.993819   \n",
       "3           0.270298          -0.032614          -0.117520         -0.994743   \n",
       "4           0.274833          -0.027848          -0.129527         -0.993852   \n",
       "\n",
       "   tBodyAcc-std()-Y  tBodyAcc-std()-Z  tBodyAcc-mad()-X  tBodyAcc-mad()-Y  \\\n",
       "0         -0.920091         -0.667683         -0.952501         -0.925249   \n",
       "1         -0.967458         -0.944958         -0.986799         -0.968401   \n",
       "2         -0.969926         -0.962748         -0.994403         -0.970735   \n",
       "3         -0.973268         -0.967091         -0.995274         -0.974471   \n",
       "4         -0.967445         -0.978295         -0.994111         -0.965953   \n",
       "\n",
       "   tBodyAcc-mad()-Z  tBodyAcc-max()-X  ...  fBodyBodyGyroJerkMag-kurtosis()  \\\n",
       "0         -0.674302         -0.894088  ...                        -0.705974   \n",
       "1         -0.945823         -0.894088  ...                        -0.594944   \n",
       "2         -0.963483         -0.939260  ...                        -0.640736   \n",
       "3         -0.968897         -0.938610  ...                        -0.736124   \n",
       "4         -0.977346         -0.938610  ...                        -0.846595   \n",
       "\n",
       "   angle(tBodyAccMean,gravity)  angle(tBodyAccJerkMean),gravityMean)  \\\n",
       "0                     0.006462                              0.162920   \n",
       "1                    -0.083495                              0.017500   \n",
       "2                    -0.034956                              0.202302   \n",
       "3                    -0.017067                              0.154438   \n",
       "4                    -0.002223                             -0.040046   \n",
       "\n",
       "   angle(tBodyGyroMean,gravityMean)  angle(tBodyGyroJerkMean,gravityMean)  \\\n",
       "0                         -0.825886                              0.271151   \n",
       "1                         -0.434375                              0.920593   \n",
       "2                          0.064103                              0.145068   \n",
       "3                          0.340134                              0.296407   \n",
       "4                          0.736715                             -0.118545   \n",
       "\n",
       "   angle(X,gravityMean)  angle(Y,gravityMean)  angle(Z,gravityMean)  label  \\\n",
       "0             -0.720009              0.276801             -0.057978      5   \n",
       "1             -0.698091              0.281343             -0.083898      5   \n",
       "2             -0.702771              0.280083             -0.079346      5   \n",
       "3             -0.698954              0.284114             -0.077108      5   \n",
       "4             -0.692245              0.290722             -0.073857      5   \n",
       "\n",
       "   label_name  \n",
       "0    STANDING  \n",
       "1    STANDING  \n",
       "2    STANDING  \n",
       "3    STANDING  \n",
       "4    STANDING  \n",
       "\n",
       "[5 rows x 563 columns]"
      ]
     },
     "execution_count": 7,
     "metadata": {},
     "output_type": "execute_result"
    }
   ],
   "source": [
    "# 将初始数据的空值用NaN替代\n",
    "train_data.replace(\"?\",np.NaN).head()\n",
    "test_data.replace(\"?\",np.NaN).head()"
   ]
  },
  {
   "cell_type": "markdown",
   "metadata": {},
   "source": [
    "##### （二）处理缺省值 Handling default values"
   ]
  },
  {
   "cell_type": "code",
   "execution_count": 8,
   "metadata": {},
   "outputs": [],
   "source": [
    "# 无缺省，无需处理缺省值"
   ]
  },
  {
   "cell_type": "markdown",
   "metadata": {},
   "source": [
    "##### （三）训练集和测试集信息说明 Training set and test set information description"
   ]
  },
  {
   "cell_type": "code",
   "execution_count": 9,
   "metadata": {},
   "outputs": [
    {
     "name": "stdout",
     "output_type": "stream",
     "text": [
      "训练集样本模型:7352，特征属性：563, 目标属性:1 \n"
     ]
    }
   ],
   "source": [
    "print(\"训练集样本模型:%d，特征属性：%d, 目标属性:%d \" %(train_data.shape[0],train_data.shape[1],train_label.shape[1]))"
   ]
  },
  {
   "cell_type": "code",
   "execution_count": 10,
   "metadata": {},
   "outputs": [
    {
     "name": "stdout",
     "output_type": "stream",
     "text": [
      "训练集样本模型:2947，特征属性：563, 目标属性:1 \n"
     ]
    }
   ],
   "source": [
    "print(\"训练集样本模型:%d，特征属性：%d, 目标属性:%d \" %(test_data.shape[0],test_data.shape[1],train_label.shape[1]))"
   ]
  },
  {
   "cell_type": "markdown",
   "metadata": {},
   "source": [
    "##### （四）根据算法要求处理数据  Process data according to algorithm requirements"
   ]
  },
  {
   "cell_type": "code",
   "execution_count": 11,
   "metadata": {},
   "outputs": [],
   "source": [
    "#制作训练集和测试集，使格式符合sklean算法要求\n",
    "x_train=train_data.iloc[:,:-2].values # 训练集X特征数据\n",
    "x_test=train_data.iloc[:,-2].values # 训练集X标签数据\n",
    "y_train=test_data.iloc[:,:-2].values # 测试集Y合特征数据\n",
    "y_test=test_data.iloc[:,-2].values # 测试集Y标签数据\n"
   ]
  },
  {
   "cell_type": "markdown",
   "metadata": {},
   "source": [
    "#### 三、建立投票分类模型训练"
   ]
  },
  {
   "cell_type": "markdown",
   "metadata": {},
   "source": [
    "* 前期准备"
   ]
  },
  {
   "cell_type": "code",
   "execution_count": 12,
   "metadata": {},
   "outputs": [],
   "source": [
    "names = {\n",
    "    1:'WALKING',\n",
    "    2:'WALKING_UPSTAIRS',\n",
    "    3:'WALKING_DOWNSTAIRS',\n",
    "    4:'SITTING',\n",
    "    5:'STANDING',\n",
    "    6:'LAYING'\n",
    "}"
   ]
  },
  {
   "cell_type": "code",
   "execution_count": 13,
   "metadata": {},
   "outputs": [],
   "source": [
    "# 定义函数用于生成混淆矩阵\n",
    "def CreateCM(prediction,y_true,name):\n",
    "    # 查看结果\n",
    "    prediction_new = pd.DataFrame(prediction)\n",
    "    prediction_new.columns=['activity']\n",
    "    # 对预测结果数量进行统计\n",
    "    # prediction_new['activity'].value_counts()\n",
    "    # 对预测结果标签进行数字替换，按names进行替换\n",
    "    prediction_new['activity']= prediction_new['activity'].map(names)\n",
    "    # 查看预测结果信息\n",
    "    # prediction_new['activity'].describe()\n",
    "    # prediction_new['activity'].value_counts()\n",
    "    \n",
    "#     # 对prediciton 作-1处理\n",
    "#     i = 0\n",
    "#     for value in prediction:\n",
    "#         prediction[i]=value-1\n",
    "#         i = i+1\n",
    "#     # 对y_test 作-1处理\n",
    "#     i = 0\n",
    "#     for value in y_test:\n",
    "#         y_true[i]=value-1\n",
    "#         i = i+1\n",
    "    # 混淆矩阵可视化\n",
    "    from sklearn.metrics import confusion_matrix\n",
    "    from sklearn.metrics import plot_confusion_matrix\n",
    "    # 生成获取混淆矩阵\n",
    "    cm = confusion_matrix(y_true=y_true,y_pred=prediction)   \n",
    "    \n",
    "    # 混淆矩阵信息添加\n",
    "    columns = ['WALKING', 'WALKING_UPSTAIRS','WALKING_DOWNSTAIRS','SITTING','STANDING','LAYING']\n",
    "    cm_df = pd.DataFrame(cm)\n",
    "    cm_df.columns = columns\n",
    "    cm_df.index = columns\n",
    "\n",
    "    #转换成dataframe，转不转一样\n",
    "    #fmt参数不使用科学计数法进行显示\n",
    "#     plt.xticks(fontsize=8) \n",
    "#     plt.yticks(fontsize=8)\n",
    "    ax = sns.heatmap(cm_df,annot=True,fmt='.20g',center=120,vmin=0,vmax=600)\n",
    "    ax.set_title('confusion matrix') #标题\n",
    "    ax.set_xlabel('predict') #x轴\n",
    "    ax.set_ylabel('true') #y轴\n",
    "    \n",
    "    # 存储图片\n",
    "    # plt.savefig('论文图表资料/其他对比算法的预测结果（混淆矩阵展示）/'+name+'.tif',format='tif',bbox_inches='tight')\n",
    "    # 设置xy轴刻度文字大小 \n",
    "    return cm"
   ]
  },
  {
   "cell_type": "code",
   "execution_count": 14,
   "metadata": {},
   "outputs": [],
   "source": [
    "#test\n",
    "a = np.array([\n",
    "    [1,2,3],\n",
    "    [1,2,3],\n",
    "    [1,2,3]\n",
    "])\n"
   ]
  },
  {
   "cell_type": "code",
   "execution_count": 15,
   "metadata": {},
   "outputs": [],
   "source": [
    "# 定义函数用于输出精确率和召回率\n",
    "def process(cm):\n",
    "    x = [0,0,0,0,0,0]\n",
    "    y = [0,0,0,0,0,0]\n",
    "    for i in range(0,6):\n",
    "        sumrow_i = sum(cm[i])\n",
    "        sumcol_i = sum(cm.T[i])\n",
    "\n",
    "        x[i] = cm[i][i]/sumrow_i\n",
    "        y[i] = cm[i][i]/sumcol_i\n",
    "    print(\"精确率：\",np.sum(x)/6*100,'%' )\n",
    "    print(\"召回率：\",np.sum(y)/6*100,'%' )"
   ]
  },
  {
   "cell_type": "markdown",
   "metadata": {},
   "source": [
    "##### （一）构建各类分类模型"
   ]
  },
  {
   "cell_type": "code",
   "execution_count": 17,
   "metadata": {},
   "outputs": [],
   "source": [
    "from sklearn.neighbors import KNeighborsClassifier\n",
    "from sklearn.svm import SVC\n",
    "from sklearn.discriminant_analysis import QuadraticDiscriminantAnalysis\n",
    "from sklearn.naive_bayes import GaussianNB\n",
    "from sklearn.neural_network import MLPClassifier\n",
    "from sklearn.linear_model import LogisticRegression\n",
    "from sklearn.ensemble import VotingClassifier\n",
    "# 定义各训练模型\n",
    "clf1 = KNeighborsClassifier()\n",
    "clf2 = SVC(kernel='rbf', probability=True)\n",
    "clf3 = QuadraticDiscriminantAnalysis()\n",
    "clf4 = GaussianNB()\n",
    "clf5 = MLPClassifier()\n",
    "clf6 = LogisticRegression()\n",
    "\n",
    "# 联合训练，投票方式为硬投票\n",
    "summary = [('KNN',clf1),('SVM',clf2),('QDA',clf3),('GaussianNB',clf4),('MLP',clf5),('LR',clf6)]\n",
    "eclf = VotingClassifier(estimators=summary, voting='hard')\n",
    "#使用投票法,voting='hard'表示硬投票"
   ]
  },
  {
   "cell_type": "markdown",
   "metadata": {},
   "source": [
    "##### （二）训练模型-硬投票"
   ]
  },
  {
   "cell_type": "code",
   "execution_count": 61,
   "metadata": {},
   "outputs": [
    {
     "data": {
      "text/plain": [
       "VotingClassifier(estimators=[('KNN', KNeighborsClassifier()),\n",
       "                             ('SVM', SVC(probability=True)),\n",
       "                             ('QDA', QuadraticDiscriminantAnalysis()),\n",
       "                             ('GaussianNB', GaussianNB()),\n",
       "                             ('MLP', MLPClassifier()),\n",
       "                             ('LR', LogisticRegression())])"
      ]
     },
     "execution_count": 61,
     "metadata": {},
     "output_type": "execute_result"
    }
   ],
   "source": [
    "eclf.fit(x_train,x_test)"
   ]
  },
  {
   "cell_type": "code",
   "execution_count": 24,
   "metadata": {},
   "outputs": [
    {
     "name": "stdout",
     "output_type": "stream",
     "text": [
      "Accuracy: 0.90 (+/- 0.02) [KNN]\n",
      "Accuracy: 0.93 (+/- 0.02) [SVM]\n",
      "Accuracy: 0.93 (+/- 0.02) [MLP]\n",
      "Accuracy: 0.93 (+/- 0.03) [LR]\n",
      "Accuracy: 0.93 (+/- 0.02) [Voting]\n"
     ]
    }
   ],
   "source": [
    "import warnings\n",
    "warnings.filterwarnings(\"ignore\")\n",
    "from sklearn.model_selection import cross_val_score\n",
    "for clf, clf_name in zip([clf1, clf2, clf5, clf6, eclf],['KNN', 'SVM', 'MLP','LR', 'Voting']):\n",
    "    scores = cross_val_score(clf, x_train, x_test, cv=5, scoring='accuracy')\n",
    "    print('Accuracy: {:.2f} (+/- {:.2f}) [{}]'.format(scores.mean(), scores.std(), clf_name))"
   ]
  },
  {
   "cell_type": "markdown",
   "metadata": {},
   "source": [
    "##### （三）训练模型-软投票直接选择前两列特征"
   ]
  },
  {
   "cell_type": "code",
   "execution_count": 52,
   "metadata": {},
   "outputs": [
    {
     "data": {
      "text/plain": [
       "VotingClassifier(estimators=[('KNN', KNeighborsClassifier()),\n",
       "                             ('SVM', SVC(probability=True)),\n",
       "                             ('MLP', MLPClassifier()),\n",
       "                             ('LR', LogisticRegression())],\n",
       "                 voting='soft', weights=[1, 2, 2, 2])"
      ]
     },
     "execution_count": 52,
     "metadata": {},
     "output_type": "execute_result"
    }
   ],
   "source": [
    "from itertools import product\n",
    "x_t = x_train[:,[0,2]]\n",
    "clf1.fit(x_t,x_test)\n",
    "clf2.fit(x_t,x_test)\n",
    "clf3.fit(x_t,x_test)\n",
    "clf4.fit(x_t,x_test)\n",
    "clf5.fit(x_t,x_test)\n",
    "clf6.fit(x_t,x_test)\n",
    "\n",
    "eclf_soft = VotingClassifier(estimators=[('KNN',clf1),('SVM',clf2),('MLP',clf5),('LR',clf6)], voting='soft', weights=[1,2,2,2])\n",
    "eclf_soft.fit(x_t,x_test)\n"
   ]
  },
  {
   "cell_type": "code",
   "execution_count": 63,
   "metadata": {},
   "outputs": [
    {
     "name": "stdout",
     "output_type": "stream",
     "text": [
      "Accuracy: 0.90 (+/- 0.02) [KNN]\n",
      "Accuracy: 0.93 (+/- 0.02) [SVM]\n",
      "Accuracy: 0.93 (+/- 0.02) [MLP]\n",
      "Accuracy: 0.93 (+/- 0.03) [LR]\n",
      "Accuracy: 0.94 (+/- 0.02) [Soft Voting]\n"
     ]
    }
   ],
   "source": [
    "import warnings\n",
    "warnings.filterwarnings(\"ignore\")\n",
    "from sklearn.model_selection import cross_val_score\n",
    "for clf, clf_name in zip([clf1, clf2, clf5, clf6, eclf_soft],['KNN', 'SVM', 'MLP','LR', 'Soft Voting']):\n",
    "    scores = cross_val_score(clf, x_train, x_test, cv=5, scoring='accuracy')\n",
    "    print('Accuracy: {:.2f} (+/- {:.2f}) [{}]'.format(scores.mean(), scores.std(), clf_name))"
   ]
  },
  {
   "cell_type": "code",
   "execution_count": 53,
   "metadata": {},
   "outputs": [
    {
     "data": {
      "image/png": "[encoded data removed]",
      "text/plain": [
       "<Figure size 720x576 with 4 Axes>"
      ]
     },
     "metadata": {
      "needs_background": "light"
     },
     "output_type": "display_data"
    }
   ],
   "source": [
    "# 展示结果\n",
    "x_min, x_max = x_t[:,0].min() -1, x_t[:,0].max() + 1\n",
    "y_min, y_max = x_t[:,1].min() -1, x_t[:,1].max() + 1\n",
    "xx, yy = np.meshgrid(np.arange(x_min, x_max, 0.01), np.arange(y_min, y_max, 0.01))  #创建网格\n",
    "\n",
    "fig, axes = plt.subplots(2, 2, sharex='col', sharey='row', figsize=(10, 8)) #共享X轴和Y轴\n",
    "\n",
    "for idx, clf, title in zip(product([0, 1],[0, 1]),\n",
    "                           [clf1, clf2, clf6, eclf_soft],\n",
    "                           ['KNN', 'SVM',\n",
    "                            'LR', 'Soft Voting']):\n",
    "    Z = clf.predict(np.c_[xx.ravel(), yy.ravel()]) #起初我以为是预测的X的值，实际上是预测了上面创建的网格的值，以这些值来进行描绘区域\n",
    "    Z = Z.reshape(xx.shape)\n",
    "    axes[idx[0], idx[1]].contourf(xx, yy, Z, alpha=0.4)\n",
    "    axes[idx[0], idx[1]].scatter(x_t[:, 0],x_t[:, 1], c=x_test, s=20, edgecolor='k')\n",
    "    axes[idx[0], idx[1]].set_title(title)\n",
    "plt.show()"
   ]
  },
  {
   "cell_type": "markdown",
   "metadata": {},
   "source": [
    "##### （三）训练模型-软投票展示混淆矩阵和结果"
   ]
  },
  {
   "cell_type": "code",
   "execution_count": 55,
   "metadata": {},
   "outputs": [
    {
     "data": {
      "text/plain": [
       "VotingClassifier(estimators=[('KNN', KNeighborsClassifier()),\n",
       "                             ('SVM', SVC(probability=True)),\n",
       "                             ('MLP', MLPClassifier()),\n",
       "                             ('LR', LogisticRegression())],\n",
       "                 voting='soft', weights=[1, 2, 2, 2])"
      ]
     },
     "execution_count": 55,
     "metadata": {},
     "output_type": "execute_result"
    }
   ],
   "source": [
    "# 模型分批训练\n",
    "clf1.fit(x_train,x_test)\n",
    "clf2.fit(x_train,x_test)\n",
    "clf3.fit(x_train,x_test)\n",
    "clf4.fit(x_train,x_test)\n",
    "clf5.fit(x_train,x_test)\n",
    "clf6.fit(x_train,x_test)\n",
    "# 投票模型训练\n",
    "eclf_soft.fit(x_train,x_test)"
   ]
  },
  {
   "cell_type": "code",
   "execution_count": 56,
   "metadata": {},
   "outputs": [],
   "source": [
    "names = {\n",
    "    1:'WALKING',\n",
    "    2:'WALKING_UPSTAIRS',\n",
    "    3:'WALKING_DOWNSTAIRS',\n",
    "    4:'SITTING',\n",
    "    5:'STANDING',\n",
    "    6:'LAYING'\n",
    "}"
   ]
  },
  {
   "cell_type": "code",
   "execution_count": 57,
   "metadata": {},
   "outputs": [],
   "source": [
    "# 定义函数用于生成混淆矩阵\n",
    "def CreateCM(prediction,y_true,name):\n",
    "    # 查看结果\n",
    "    prediction_new = pd.DataFrame(prediction)\n",
    "    prediction_new.columns=['activity']\n",
    "    # 对预测结果数量进行统计\n",
    "    # prediction_new['activity'].value_counts()\n",
    "    # 对预测结果标签进行数字替换，按names进行替换\n",
    "    prediction_new['activity']= prediction_new['activity'].map(names)\n",
    "    # 查看预测结果信息\n",
    "    # prediction_new['activity'].describe()\n",
    "    # prediction_new['activity'].value_counts()\n",
    "    \n",
    "#     # 对prediciton 作-1处理\n",
    "#     i = 0\n",
    "#     for value in prediction:\n",
    "#         prediction[i]=value-1\n",
    "#         i = i+1\n",
    "#     # 对y_test 作-1处理\n",
    "#     i = 0\n",
    "#     for value in y_test:\n",
    "#         y_true[i]=value-1\n",
    "#         i = i+1\n",
    "    # 混淆矩阵可视化\n",
    "    from sklearn.metrics import confusion_matrix\n",
    "    from sklearn.metrics import plot_confusion_matrix\n",
    "    # 生成获取混淆矩阵\n",
    "    cm = confusion_matrix(y_true=y_true,y_pred=prediction)   \n",
    "    \n",
    "    # 混淆矩阵信息添加\n",
    "    columns = ['WALKING', 'WALKING_UPSTAIRS','WALKING_DOWNSTAIRS','SITTING','STANDING','LAYING']\n",
    "    cm_df = pd.DataFrame(cm)\n",
    "    cm_df.columns = columns\n",
    "    cm_df.index = columns\n",
    "\n",
    "    #转换成dataframe，转不转一样\n",
    "    #fmt参数不使用科学计数法进行显示\n",
    "#     plt.xticks(fontsize=8) \n",
    "#     plt.yticks(fontsize=8)\n",
    "    ax = sns.heatmap(cm_df,annot=True,fmt='.20g',center=120,vmin=0,vmax=600)\n",
    "    ax.set_title('confusion matrix') #标题\n",
    "    ax.set_xlabel('predict') #x轴\n",
    "    ax.set_ylabel('true') #y轴\n",
    "    \n",
    "    # 存储图片\n",
    "    # plt.savefig('论文图表资料/其他对比算法的预测结果（混淆矩阵展示）/'+name+'.tif',format='tif',bbox_inches='tight')\n",
    "    # 设置xy轴刻度文字大小 \n",
    "    return cm"
   ]
  },
  {
   "cell_type": "code",
   "execution_count": 58,
   "metadata": {},
   "outputs": [],
   "source": [
    "# 定义函数用于输出精确率和召回率\n",
    "def process(cm):\n",
    "    x = [0,0,0,0,0,0]\n",
    "    y = [0,0,0,0,0,0]\n",
    "    for i in range(0,6):\n",
    "        sumrow_i = sum(cm[i])\n",
    "        sumcol_i = sum(cm.T[i])\n",
    "\n",
    "        x[i] = cm[i][i]/sumrow_i\n",
    "        y[i] = cm[i][i]/sumcol_i\n",
    "    print(\"精确率：\",np.sum(x)/6*100,'%' )\n",
    "    print(\"召回率：\",np.sum(y)/6*100,'%' )"
   ]
  },
  {
   "cell_type": "markdown",
   "metadata": {},
   "source": [
    "##### （三）评估模型 Evaluation model"
   ]
  },
  {
   "cell_type": "code",
   "execution_count": 62,
   "metadata": {},
   "outputs": [
    {
     "name": "stdout",
     "output_type": "stream",
     "text": [
      "精确率： 95.14122863836057 %\n",
      "召回率： 95.50867842245596 %\n"
     ]
    },
    {
     "data": {
      "image/png": "[encoded data removed]",
      "text/plain": [
       "<Figure size 432x288 with 2 Axes>"
      ]
     },
     "metadata": {
      "needs_background": "light"
     },
     "output_type": "display_data"
    }
   ],
   "source": [
    "# 硬投票\n",
    "prediction = eclf.predict(y_train)\n",
    "# 计算混淆矩阵\n",
    "c = CreateCM(prediction,y_test,'Hard_voting')\n",
    "# 输出精确率和召回率\n",
    "process(c)"
   ]
  },
  {
   "cell_type": "code",
   "execution_count": 59,
   "metadata": {},
   "outputs": [
    {
     "name": "stdout",
     "output_type": "stream",
     "text": [
      "精确率： 95.86940023651918 %\n",
      "召回率： 96.23319221842615 %\n"
     ]
    },
    {
     "data": {
      "image/png": "[encoded data removed]",
      "text/plain": [
       "<Figure size 432x288 with 2 Axes>"
      ]
     },
     "metadata": {
      "needs_background": "light"
     },
     "output_type": "display_data"
    }
   ],
   "source": [
    "# 软投票\n",
    "prediction = eclf_soft.predict(y_train)\n",
    "# 计算混淆矩阵\n",
    "c = CreateCM(prediction,y_test,'Soft_voting')\n",
    "# 输出精确率和召回率\n",
    "process(c)"
   ]
  },
  {
   "cell_type": "markdown",
   "metadata": {},
   "source": [
    "##### （四）模型预测 Model prediction"
   ]
  },
  {
   "cell_type": "code",
   "execution_count": 25,
   "metadata": {},
   "outputs": [],
   "source": [
    "from itertools import product\n",
    "\n",
    "import numpy as np\n",
    "import matplotlib.pyplot as plt\n",
    "\n",
    "from sklearn import datasets\n",
    "iris = datasets.load_iris()\n",
    "X = iris.data[:,[0,2]] #取两列，方便绘图\n",
    "y = iris.target"
   ]
  },
  {
   "cell_type": "code",
   "execution_count": 30,
   "metadata": {},
   "outputs": [
    {
     "data": {
      "text/plain": [
       "array([[ 0.28858451, -0.13290514],\n",
       "       [ 0.27841883, -0.12352019],\n",
       "       [ 0.27965306, -0.11346169],\n",
       "       ...,\n",
       "       [ 0.27338737, -0.04502183],\n",
       "       [ 0.28965416, -0.15828059],\n",
       "       [ 0.35150347, -0.20386717]])"
      ]
     },
     "execution_count": 30,
     "metadata": {},
     "output_type": "execute_result"
    }
   ],
   "source": [
    "x_t = x_train[:,[0,2]]\n",
    "x_t"
   ]
  },
  {
   "cell_type": "code",
   "execution_count": 31,
   "metadata": {},
   "outputs": [
    {
     "data": {
      "text/plain": [
       "array([[5.1, 1.4],\n",
       "       [4.9, 1.4],\n",
       "       [4.7, 1.3],\n",
       "       [4.6, 1.5],\n",
       "       [5. , 1.4],\n",
       "       [5.4, 1.7],\n",
       "       [4.6, 1.4],\n",
       "       [5. , 1.5],\n",
       "       [4.4, 1.4],\n",
       "       [4.9, 1.5],\n",
       "       [5.4, 1.5],\n",
       "       [4.8, 1.6],\n",
       "       [4.8, 1.4],\n",
       "       [4.3, 1.1],\n",
       "       [5.8, 1.2],\n",
       "       [5.7, 1.5],\n",
       "       [5.4, 1.3],\n",
       "       [5.1, 1.4],\n",
       "       [5.7, 1.7],\n",
       "       [5.1, 1.5],\n",
       "       [5.4, 1.7],\n",
       "       [5.1, 1.5],\n",
       "       [4.6, 1. ],\n",
       "       [5.1, 1.7],\n",
       "       [4.8, 1.9],\n",
       "       [5. , 1.6],\n",
       "       [5. , 1.6],\n",
       "       [5.2, 1.5],\n",
       "       [5.2, 1.4],\n",
       "       [4.7, 1.6],\n",
       "       [4.8, 1.6],\n",
       "       [5.4, 1.5],\n",
       "       [5.2, 1.5],\n",
       "       [5.5, 1.4],\n",
       "       [4.9, 1.5],\n",
       "       [5. , 1.2],\n",
       "       [5.5, 1.3],\n",
       "       [4.9, 1.4],\n",
       "       [4.4, 1.3],\n",
       "       [5.1, 1.5],\n",
       "       [5. , 1.3],\n",
       "       [4.5, 1.3],\n",
       "       [4.4, 1.3],\n",
       "       [5. , 1.6],\n",
       "       [5.1, 1.9],\n",
       "       [4.8, 1.4],\n",
       "       [5.1, 1.6],\n",
       "       [4.6, 1.4],\n",
       "       [5.3, 1.5],\n",
       "       [5. , 1.4],\n",
       "       [7. , 4.7],\n",
       "       [6.4, 4.5],\n",
       "       [6.9, 4.9],\n",
       "       [5.5, 4. ],\n",
       "       [6.5, 4.6],\n",
       "       [5.7, 4.5],\n",
       "       [6.3, 4.7],\n",
       "       [4.9, 3.3],\n",
       "       [6.6, 4.6],\n",
       "       [5.2, 3.9],\n",
       "       [5. , 3.5],\n",
       "       [5.9, 4.2],\n",
       "       [6. , 4. ],\n",
       "       [6.1, 4.7],\n",
       "       [5.6, 3.6],\n",
       "       [6.7, 4.4],\n",
       "       [5.6, 4.5],\n",
       "       [5.8, 4.1],\n",
       "       [6.2, 4.5],\n",
       "       [5.6, 3.9],\n",
       "       [5.9, 4.8],\n",
       "       [6.1, 4. ],\n",
       "       [6.3, 4.9],\n",
       "       [6.1, 4.7],\n",
       "       [6.4, 4.3],\n",
       "       [6.6, 4.4],\n",
       "       [6.8, 4.8],\n",
       "       [6.7, 5. ],\n",
       "       [6. , 4.5],\n",
       "       [5.7, 3.5],\n",
       "       [5.5, 3.8],\n",
       "       [5.5, 3.7],\n",
       "       [5.8, 3.9],\n",
       "       [6. , 5.1],\n",
       "       [5.4, 4.5],\n",
       "       [6. , 4.5],\n",
       "       [6.7, 4.7],\n",
       "       [6.3, 4.4],\n",
       "       [5.6, 4.1],\n",
       "       [5.5, 4. ],\n",
       "       [5.5, 4.4],\n",
       "       [6.1, 4.6],\n",
       "       [5.8, 4. ],\n",
       "       [5. , 3.3],\n",
       "       [5.6, 4.2],\n",
       "       [5.7, 4.2],\n",
       "       [5.7, 4.2],\n",
       "       [6.2, 4.3],\n",
       "       [5.1, 3. ],\n",
       "       [5.7, 4.1],\n",
       "       [6.3, 6. ],\n",
       "       [5.8, 5.1],\n",
       "       [7.1, 5.9],\n",
       "       [6.3, 5.6],\n",
       "       [6.5, 5.8],\n",
       "       [7.6, 6.6],\n",
       "       [4.9, 4.5],\n",
       "       [7.3, 6.3],\n",
       "       [6.7, 5.8],\n",
       "       [7.2, 6.1],\n",
       "       [6.5, 5.1],\n",
       "       [6.4, 5.3],\n",
       "       [6.8, 5.5],\n",
       "       [5.7, 5. ],\n",
       "       [5.8, 5.1],\n",
       "       [6.4, 5.3],\n",
       "       [6.5, 5.5],\n",
       "       [7.7, 6.7],\n",
       "       [7.7, 6.9],\n",
       "       [6. , 5. ],\n",
       "       [6.9, 5.7],\n",
       "       [5.6, 4.9],\n",
       "       [7.7, 6.7],\n",
       "       [6.3, 4.9],\n",
       "       [6.7, 5.7],\n",
       "       [7.2, 6. ],\n",
       "       [6.2, 4.8],\n",
       "       [6.1, 4.9],\n",
       "       [6.4, 5.6],\n",
       "       [7.2, 5.8],\n",
       "       [7.4, 6.1],\n",
       "       [7.9, 6.4],\n",
       "       [6.4, 5.6],\n",
       "       [6.3, 5.1],\n",
       "       [6.1, 5.6],\n",
       "       [7.7, 6.1],\n",
       "       [6.3, 5.6],\n",
       "       [6.4, 5.5],\n",
       "       [6. , 4.8],\n",
       "       [6.9, 5.4],\n",
       "       [6.7, 5.6],\n",
       "       [6.9, 5.1],\n",
       "       [5.8, 5.1],\n",
       "       [6.8, 5.9],\n",
       "       [6.7, 5.7],\n",
       "       [6.7, 5.2],\n",
       "       [6.3, 5. ],\n",
       "       [6.5, 5.2],\n",
       "       [6.2, 5.4],\n",
       "       [5.9, 5.1]])"
      ]
     },
     "execution_count": 31,
     "metadata": {},
     "output_type": "execute_result"
    }
   ],
   "source": [
    "X"
   ]
  },
  {
   "cell_type": "code",
   "execution_count": null,
   "metadata": {},
   "outputs": [],
   "source": []
  }
 ],
 "metadata": {
  "kernelspec": {
   "display_name": "Python 3",
   "language": "python",
   "name": "python3"
  },
  "language_info": {
   "codemirror_mode": {
    "name": "ipython",
    "version": 3
   },
   "file_extension": ".py",
   "mimetype": "text/x-python",
   "name": "python",
   "nbconvert_exporter": "python",
   "pygments_lexer": "ipython3",
   "version": "3.8.8"
  }
 },
 "nbformat": 4,
 "nbformat_minor": 4
}
